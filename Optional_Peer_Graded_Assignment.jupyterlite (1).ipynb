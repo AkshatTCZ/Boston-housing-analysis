{
  "metadata": {
    "kernelspec": {
      "name": "python",
      "display_name": "Python (Pyodide)",
      "language": "python"
    },
    "language_info": {
      "codemirror_mode": {
        "name": "python",
        "version": 3
      },
      "file_extension": ".py",
      "mimetype": "text/x-python",
      "name": "python",
      "nbconvert_exporter": "python",
      "pygments_lexer": "ipython3",
      "version": "3.8"
    }
  },
  "nbformat_minor": 4,
  "nbformat": 4,
  "cells": [
    {
      "cell_type": "markdown",
      "source": "<p style=\"text-align:center\">\n    <a href=\"https://skills.network/?utm_medium=Exinfluencer&utm_source=Exinfluencer&utm_content=000026UJ&utm_term=10006555&utm_id=NA-SkillsNetwork-Channel-SkillsNetworkCoursesIBMDeveloperSkillsNetworkST0151ENSkillsNetwork20531532-2022-01-01\" target=\"_blank\">\n    <img src=\"https://cf-courses-data.s3.us.cloud-object-storage.appdomain.cloud/assets/logos/SN_web_lightmode.png\" width=\"200\" alt=\"Skills Network Logo\"  />\n    </a>\n</p>\n\n",
      "metadata": {}
    },
    {
      "cell_type": "markdown",
      "source": "#### Import the required libraries we need for the lab.\n",
      "metadata": {}
    },
    {
      "cell_type": "code",
      "source": "import piplite\nawait piplite.install(['numpy'],['pandas'])\nawait piplite.install(['seaborn'])",
      "metadata": {},
      "outputs": [],
      "execution_count": null
    },
    {
      "cell_type": "code",
      "source": "import pandas as pd\nimport pandas as pd\nimport seaborn as sns\nimport matplotlib.pyplot as pyplot\nimport scipy.stats\nimport statsmodels.api as sm\nfrom statsmodels.formula.api import ols",
      "metadata": {},
      "outputs": [],
      "execution_count": null
    },
    {
      "cell_type": "markdown",
      "source": "#### Read the dataset in the csv file from the URL\n",
      "metadata": {}
    },
    {
      "cell_type": "code",
      "source": "from js import fetch\nimport io\n\nURL = 'https://cf-courses-data.s3.us.cloud-object-storage.appdomain.cloud/IBMDeveloperSkillsNetwork-ST0151EN-SkillsNetwork/labs/boston_housing.csv'\nresp = await fetch(URL)\nboston_url = io.BytesIO((await resp.arrayBuffer()).to_py())",
      "metadata": {},
      "outputs": [],
      "execution_count": null
    },
    {
      "cell_type": "code",
      "source": "boston_df=pd.read_csv(boston_url)",
      "metadata": {},
      "outputs": [],
      "execution_count": null
    },
    {
      "cell_type": "markdown",
      "source": "#### Add your code below following the instructions given in the course to complete the peer graded assignment\n",
      "metadata": {}
    },
    {
      "cell_type": "code",
      "source": "# Import necessary libraries\nimport pandas as pd\nimport matplotlib.pyplot as plt\nimport seaborn as sns\n\n# Load the dataset\ndf = boston_df\n\n# Display the first few rows to understand the dataset\ndf.head()\n",
      "metadata": {},
      "outputs": [],
      "execution_count": null
    },
    {
      "cell_type": "code",
      "source": "# Boxplot for MEDV\nplt.figure(figsize=(6, 4))\nsns.boxplot(x=df['MEDV'])\nplt.title('Boxplot for Median Value of Owner-Occupied Homes (MEDV)')\nplt.xlabel('Median Value ($1000\\'s)')\nplt.show()\n",
      "metadata": {
        "trusted": true
      },
      "outputs": [],
      "execution_count": null
    },
    {
      "cell_type": "code",
      "source": "# Bar plot for CHAS\nplt.figure(figsize=(6, 4))\nsns.countplot(x='CHAS', data=df)\nplt.title('Bar Plot of Homes Near Charles River')\nplt.xlabel('Charles River (1 = bounds river, 0 = otherwise)')\nplt.ylabel('Count')\nplt.show()\n",
      "metadata": {
        "trusted": true
      },
      "outputs": [],
      "execution_count": null
    },
    {
      "cell_type": "code",
      "source": "# Discretizing AGE into groups\ndf['AGE_group'] = pd.cut(df['AGE'], bins=[0, 35, 70, 100], labels=['35 years and younger', '35 to 70 years', '70 years and older'])\n\n# Boxplot of MEDV vs AGE (discretized)\nplt.figure(figsize=(8, 6))\nsns.boxplot(x='AGE_group', y='MEDV', data=df)\nplt.title('Boxplot of Median Home Value vs Age of Homes')\nplt.xlabel('Age Group')\nplt.ylabel('Median Value ($1000\\'s)')\nplt.show()\n",
      "metadata": {
        "trusted": true
      },
      "outputs": [],
      "execution_count": null
    },
    {
      "cell_type": "code",
      "source": "# Scatter plot for NOX vs INDUS\nplt.figure(figsize=(6, 4))\nsns.scatterplot(x='NOX', y='INDUS', data=df)\nplt.title('Scatter Plot: Nitric Oxide Concentration vs Non-Retail Business Acres')\nplt.xlabel('NOX (Nitric Oxide Concentration)')\nplt.ylabel('INDUS (Proportion of Non-Retail Business Acres)')\nplt.show()\n",
      "metadata": {
        "trusted": true
      },
      "outputs": [],
      "execution_count": null
    },
    {
      "cell_type": "code",
      "source": "# Histogram for PTRATIO\nplt.figure(figsize=(6, 4))\nsns.histplot(df['PTRATIO'], bins=10, kde=False)\nplt.title('Histogram of Pupil-Teacher Ratio by Town')\nplt.xlabel('Pupil-Teacher Ratio')\nplt.ylabel('Frequency')\nplt.show()\n",
      "metadata": {
        "trusted": true
      },
      "outputs": [],
      "execution_count": null
    },
    {
      "cell_type": "code",
      "source": "#Tests for Task 3\n#1. Is there a significant difference in the median value of houses bounded by the Charles River (CHAS)?\n#Hypothesis:\n#Null Hypothesis (H₀): There is no significant difference in the median value of houses near the Charles River (CHAS = 1) and not near the river (CHAS = 0).\n#Alternative Hypothesis (H₁): There is a significant difference in the median value of houses near the river and not near the river.\nfrom scipy.stats import ttest_ind, mannwhitneyu\n\n# Set significance level\nalpha = 0.05\n\n# Split the data based on CHAS variable\nmedv_near_river = df[df['CHAS'] == 1]['MEDV']\nmedv_not_near_river = df[df['CHAS'] == 0]['MEDV']\n\n# Perform a t-test (assuming normal distribution)\nt_stat, p_value = ttest_ind(medv_near_river, medv_not_near_river, nan_policy='omit')\n\nprint(f'T-test: t-statistic = {t_stat}, p-value = {p_value}')\n\n# Conclusion\nif p_value < alpha:\n    print(\"Reject the null hypothesis: There is a significant difference in house values between those near the Charles River and those not.\")\nelse:\n    print(\"Fail to reject the null hypothesis: No significant difference in house values between those near the river and those not.\")\n\n# Mann-Whitney U test if data is not normally distributed\nu_stat, p_value_u = mannwhitneyu(medv_near_river, medv_not_near_river)\n\nprint(f'Mann-Whitney U test: U-statistic = {u_stat}, p-value = {p_value_u}')\n\n# Conclusion\nif p_value_u < alpha:\n    print(\"Reject the null hypothesis: There is a significant difference in house values (Mann-Whitney).\")\nelse:\n    print(\"Fail to reject the null hypothesis: No significant difference in house values (Mann-Whitney).\")\n",
      "metadata": {
        "trusted": true
      },
      "outputs": [],
      "execution_count": null
    },
    {
      "cell_type": "code",
      "source": "#2. Is there a difference in median values of houses based on the proportion of owner-occupied units built before 1940 (AGE)?\n#Hypothesis:\n#Null Hypothesis (H₀): The median home values are the same across all age groups.\n#Alternative Hypothesis (H₁): There is a significant difference in median home values across different age groups.\nfrom scipy.stats import f_oneway, kruskal\n\n# Group the data by AGE_group and get MEDV values\nmedv_by_age_group = [group['MEDV'].values for name, group in df.groupby('AGE_group')]\n\n# Perform ANOVA (assuming normal distribution)\nf_stat, p_value_anova = f_oneway(*medv_by_age_group)\n\nprint(f'ANOVA: F-statistic = {f_stat}, p-value = {p_value_anova}')\n\n# Conclusion\nif p_value_anova < alpha:\n    print(\"Reject the null hypothesis: There is a significant difference in median home values between age groups.\")\nelse:\n    print(\"Fail to reject the null hypothesis: No significant difference in median home values between age groups.\")\n\n# If the data is not normally distributed, use Kruskal-Wallis test\nh_stat, p_value_kruskal = kruskal(*medv_by_age_group)\n\nprint(f'Kruskal-Wallis test: H-statistic = {h_stat}, p-value = {p_value_kruskal}')\n\n# Conclusion\nif p_value_kruskal < alpha:\n    print(\"Reject the null hypothesis: There is a significant difference in median home values (Kruskal-Wallis).\")\nelse:\n    print(\"Fail to reject the null hypothesis: No significant difference in median home values (Kruskal-Wallis).\")\n",
      "metadata": {
        "trusted": true
      },
      "outputs": [],
      "execution_count": null
    },
    {
      "cell_type": "code",
      "source": "#3. Can we conclude that there is no relationship between Nitric oxide concentrations (NOX) and the proportion of non-retail business acres (INDUS)?\n#Hypothesis:\n#Null Hypothesis (H₀): There is no relationship between Nitric oxide concentrations and the proportion of non-retail business acres.\n#Alternative Hypothesis (H₁): There is a relationship between Nitric oxide concentrations and the proportion of non-retail business acres.\nfrom scipy.stats import pearsonr, spearmanr\n\n# Perform Pearson correlation (assuming linear relationship)\npearson_corr, p_value_pearson = pearsonr(df['NOX'], df['INDUS'])\n\nprint(f'Pearson Correlation: Correlation coefficient = {pearson_corr}, p-value = {p_value_pearson}')\n\n# Conclusion\nif p_value_pearson < alpha:\n    print(\"Reject the null hypothesis: There is a significant relationship between NOX and INDUS (Pearson).\")\nelse:\n    print(\"Fail to reject the null hypothesis: No significant relationship between NOX and INDUS (Pearson).\")\n\n# Spearman correlation if data is not linear\nspearman_corr, p_value_spearman = spearmanr(df['NOX'], df['INDUS'])\n\nprint(f'Spearman Correlation: Correlation coefficient = {spearman_corr}, p-value = {p_value_spearman}')\n\n# Conclusion\nif p_value_spearman < alpha:\n    print(\"Reject the null hypothesis: There is a significant relationship between NOX and INDUS (Spearman).\")\nelse:\n    print(\"Fail to reject the null hypothesis: No significant relationship between NOX and INDUS (Spearman).\")\n",
      "metadata": {
        "trusted": true
      },
      "outputs": [],
      "execution_count": null
    },
    {
      "cell_type": "code",
      "source": "#4. What is the impact of additional distance to Boston employment centers (DIS) on the median value of homes (MEDV)?\n#Hypothesis:\n#Null Hypothesis (H₀): The weighted distance to employment centers has no significant impact on the median value of homes.\n#Alternative Hypothesis (H₁): The weighted distance to employment centers has a significant impact on the median value of homes.\nimport statsmodels.api as sm\n\n# Define the independent variable (DIS) and dependent variable (MEDV)\nX = df['DIS']\ny = df['MEDV']\n\n# Add a constant to the model\nX = sm.add_constant(X)\n\n# Fit the regression model\nmodel = sm.OLS(y, X).fit()\n\n# Print the summary of the regression\nprint(model.summary())\n\n# Conclusion:\nif model.pvalues[1] < alpha:\n    print(\"Reject the null hypothesis: Distance to employment centers has a significant impact on home values.\")\nelse:\n    print(\"Fail to reject the null hypothesis: Distance to employment centers does not significantly impact home values.\")\n",
      "metadata": {
        "trusted": true
      },
      "outputs": [],
      "execution_count": null
    },
    {
      "cell_type": "code",
      "source": "#Explanation of Statistical Tests:\n#T-test/Mann-Whitney U test: Compares the means or medians between two groups (homes near or not near the Charles River).\n#ANOVA/Kruskal-Wallis test: Compares the means/medians between three or more groups (age groups of homes).\n#Pearson/Spearman correlation: Measures the strength and direction of the relationship between two continuous variables (NOX and INDUS).\n#Linear regression: Quantifies the impact of an independent variable (DIS) on a dependent variable (MEDV)\n#α = 0.05 is used as the significance level for all tests.\n#For each test, the null hypothesis is evaluated based on the p-value.\n#The conclusion is stated clearly after running each test based on whether the p-value is less than or greater than the α value.",
      "metadata": {
        "trusted": true
      },
      "outputs": [],
      "execution_count": null
    }
  ]
}